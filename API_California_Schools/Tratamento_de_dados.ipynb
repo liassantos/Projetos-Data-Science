{
  "nbformat": 4,
  "nbformat_minor": 0,
  "metadata": {
    "colab": {
      "provenance": [],
      "toc_visible": true,
      "include_colab_link": true
    },
    "kernelspec": {
      "name": "ir",
      "display_name": "R"
    },
    "language_info": {
      "name": "R"
    }
  },
  "cells": [
    {
      "cell_type": "markdown",
      "metadata": {
        "id": "view-in-github",
        "colab_type": "text"
      },
      "source": [
        "<a href=\"https://colab.research.google.com/github/liassantos/Projetos-Data-Science/blob/main/API_California_Schools/Tratamento_de_dados.ipynb\" target=\"_parent\"><img src=\"https://colab.research.google.com/assets/colab-badge.svg\" alt=\"Open In Colab\"/></a>"
      ]
    },
    {
      "cell_type": "markdown",
      "source": [
        "# Caso 1 -- Tratamento de dados\n",
        "<h4>Alunos</h4>\n",
        "\n",
        "\n",
        "1.   José Freitas Alves Neto\n",
        "2.   Lia Santos Ponce de Leon\n",
        "3.   Lucas do Vale Pimentel\n",
        "\n",
        "\n",
        "\n",
        "\n",
        "\n"
      ],
      "metadata": {
        "id": "SOidL7sVKfne"
      }
    },
    {
      "cell_type": "markdown",
      "source": [
        "# **1.** Importando Dados"
      ],
      "metadata": {
        "id": "UzUBVGYAK4Oe"
      }
    },
    {
      "cell_type": "code",
      "source": [
        "# Baixa o arquivo do Google Drive a partir da url compartilhada\n",
        "# Carrega os pacotes\n",
        "install.packages(c(\"googledrive\", \"tidyr\",\"ggpmisc\"))\n",
        "library(googledrive)\n",
        "library(ggplot2)\n",
        "library(ggpmisc)\n",
        "library(dplyr)\n",
        "library(tidyr)\n",
        "library(fs)\n",
        "url <- \"https://drive.google.com/file/d/1v0crGqVwYM5n2yyNbg7ZsgmE1lp9zj1z/view?usp=drive_link\"\n",
        "dst <- \"/content/dataset2/api.csv\"\n",
        "\n",
        "# Extração do ID\n",
        "id <- strsplit(x = url, split = \"/\")\n",
        "id <- id[[1]][6]\n",
        "id\n",
        "# Baixa o arquivo\n",
        "drive_deauth()\n",
        "drive_user()\n",
        "public_file <- drive_get(as_id(id))\n",
        "dir.create(dirname(dst))\n",
        "drive_download(public_file, path = dst, overwrite = T)"
      ],
      "metadata": {
        "colab": {
          "base_uri": "https://localhost:8080/",
          "height": 957
        },
        "id": "xDZ96xD2SOsB",
        "outputId": "e5f025de-a26f-4319-d6eb-673fb8b01e47"
      },
      "execution_count": null,
      "outputs": [
        {
          "output_type": "stream",
          "name": "stderr",
          "text": [
            "Installing packages into ‘/usr/local/lib/R/site-library’\n",
            "(as ‘lib’ is unspecified)\n",
            "\n",
            "also installing the dependencies ‘gridExtra’, ‘xts’, ‘zoo’, ‘SparseM’, ‘MatrixModels’, ‘mvtnorm’, ‘TH.data’, ‘sandwich’, ‘Rcpp’, ‘ggpp’, ‘confintr’, ‘polynom’, ‘quantreg’, ‘lmodel2’, ‘splus2R’, ‘multcomp’, ‘multcompView’, ‘plyr’\n",
            "\n",
            "\n",
            "Loading required package: ggpp\n",
            "\n",
            "Registered S3 methods overwritten by 'ggpp':\n",
            "  method                  from   \n",
            "  heightDetails.titleGrob ggplot2\n",
            "  widthDetails.titleGrob  ggplot2\n",
            "\n",
            "\n",
            "Attaching package: ‘ggpp’\n",
            "\n",
            "\n",
            "The following object is masked from ‘package:ggplot2’:\n",
            "\n",
            "    annotate\n",
            "\n",
            "\n",
            "Registered S3 method overwritten by 'ggpmisc':\n",
            "  method                  from   \n",
            "  as.character.polynomial polynom\n",
            "\n",
            "\n",
            "Attaching package: ‘dplyr’\n",
            "\n",
            "\n",
            "The following objects are masked from ‘package:stats’:\n",
            "\n",
            "    filter, lag\n",
            "\n",
            "\n",
            "The following objects are masked from ‘package:base’:\n",
            "\n",
            "    intersect, setdiff, setequal, union\n",
            "\n",
            "\n"
          ]
        },
        {
          "output_type": "display_data",
          "data": {
            "text/html": [
              "'1v0crGqVwYM5n2yyNbg7ZsgmE1lp9zj1z'"
            ],
            "text/markdown": "'1v0crGqVwYM5n2yyNbg7ZsgmE1lp9zj1z'",
            "text/latex": "'1v0crGqVwYM5n2yyNbg7ZsgmE1lp9zj1z'",
            "text/plain": [
              "[1] \"1v0crGqVwYM5n2yyNbg7ZsgmE1lp9zj1z\""
            ]
          },
          "metadata": {}
        },
        {
          "output_type": "stream",
          "name": "stderr",
          "text": [
            "\u001b[36mℹ\u001b[39m Not logged in as any specific Google user.\n",
            "\n",
            "Warning message in dir.create(dirname(dst)):\n",
            "“'/content/dataset2' already exists”\n",
            "File downloaded:\n",
            "\n",
            "• \u001b[36mapi.csv\u001b[39m \u001b[90m<id: 1v0crGqVwYM5n2yyNbg7ZsgmE1lp9zj1z>\u001b[39m\n",
            "\n",
            "Saved locally as:\n",
            "\n",
            "• \u001b[34m/content/dataset2/api.csv\u001b[39m\n",
            "\n"
          ]
        }
      ]
    },
    {
      "cell_type": "markdown",
      "source": [
        "# **2.** Tratando os dados"
      ],
      "metadata": {
        "id": "xWuFGUYBVv9g"
      }
    },
    {
      "cell_type": "markdown",
      "source": [
        "## 2.1 Conhecendo os dados"
      ],
      "metadata": {
        "id": "mWbnAwCLYjsQ"
      }
    },
    {
      "cell_type": "code",
      "source": [
        "df_api <- read.csv(file = dst, sep = \";\")\n",
        "head(df_api, 3)"
      ],
      "metadata": {
        "colab": {
          "base_uri": "https://localhost:8080/",
          "height": 317
        },
        "id": "1jkFgoOCshCs",
        "outputId": "a7e1d539-c99f-4bde-d5c7-35f5d7d9ac36"
      },
      "execution_count": null,
      "outputs": [
        {
          "output_type": "display_data",
          "data": {
            "text/html": [
              "<table class=\"dataframe\">\n",
              "<caption>A data.frame: 3 × 37</caption>\n",
              "<thead>\n",
              "\t<tr><th></th><th scope=col>id</th><th scope=col>tipo</th><th scope=col>nome</th><th scope=col>nomec</th><th scope=col>num</th><th scope=col>dst_nm</th><th scope=col>dst_num</th><th scope=col>cdd_nm</th><th scope=col>cdd_num</th><th scope=col>flag</th><th scope=col>⋯</th><th scope=col>edu_supi</th><th scope=col>edu_sup</th><th scope=col>edu_medi</th><th scope=col>edu_med</th><th scope=col>edu_pos</th><th scope=col>edu</th><th scope=col>prof_qlt</th><th scope=col>prof_qle</th><th scope=col>inscritos</th><th scope=col>test_num</th></tr>\n",
              "\t<tr><th></th><th scope=col>&lt;dbl&gt;</th><th scope=col>&lt;chr&gt;</th><th scope=col>&lt;chr&gt;</th><th scope=col>&lt;chr&gt;</th><th scope=col>&lt;int&gt;</th><th scope=col>&lt;chr&gt;</th><th scope=col>&lt;int&gt;</th><th scope=col>&lt;chr&gt;</th><th scope=col>&lt;int&gt;</th><th scope=col>&lt;lgl&gt;</th><th scope=col>⋯</th><th scope=col>&lt;int&gt;</th><th scope=col>&lt;int&gt;</th><th scope=col>&lt;int&gt;</th><th scope=col>&lt;int&gt;</th><th scope=col>&lt;int&gt;</th><th scope=col>&lt;chr&gt;</th><th scope=col>&lt;int&gt;</th><th scope=col>&lt;int&gt;</th><th scope=col>&lt;int&gt;</th><th scope=col>&lt;int&gt;</th></tr>\n",
              "</thead>\n",
              "<tbody>\n",
              "\t<tr><th scope=row>1</th><td>1.611190e+12</td><td>Superior</td><td>Alameda High  </td><td>Alameda High  </td><td>1</td><td>Alameda City Unified</td><td>6</td><td>Alameda</td><td>1</td><td>NA</td><td>⋯</td><td> 6</td><td>16</td><td>22</td><td>38</td><td>18</td><td>3,45000004768372</td><td>85</td><td>16</td><td>1278</td><td>1090</td></tr>\n",
              "\t<tr><th scope=row>2</th><td>1.611190e+12</td><td>Superior</td><td>Encinal High  </td><td>Encinal High  </td><td>2</td><td>Alameda City Unified</td><td>6</td><td>Alameda</td><td>1</td><td>NA</td><td>⋯</td><td>11</td><td>20</td><td>29</td><td>31</td><td> 9</td><td>3,05999994277954</td><td>90</td><td>10</td><td>1113</td><td> 840</td></tr>\n",
              "\t<tr><th scope=row>3</th><td>1.611196e+12</td><td>Medio   </td><td>Chipman Middle</td><td>Chipman Middle</td><td>3</td><td>Alameda City Unified</td><td>6</td><td>Alameda</td><td>1</td><td>NA</td><td>⋯</td><td>11</td><td>31</td><td>30</td><td>20</td><td> 8</td><td>2,8199999332428 </td><td>80</td><td>12</td><td> 546</td><td> 472</td></tr>\n",
              "</tbody>\n",
              "</table>\n"
            ],
            "text/markdown": "\nA data.frame: 3 × 37\n\n| <!--/--> | id &lt;dbl&gt; | tipo &lt;chr&gt; | nome &lt;chr&gt; | nomec &lt;chr&gt; | num &lt;int&gt; | dst_nm &lt;chr&gt; | dst_num &lt;int&gt; | cdd_nm &lt;chr&gt; | cdd_num &lt;int&gt; | flag &lt;lgl&gt; | ⋯ ⋯ | edu_supi &lt;int&gt; | edu_sup &lt;int&gt; | edu_medi &lt;int&gt; | edu_med &lt;int&gt; | edu_pos &lt;int&gt; | edu &lt;chr&gt; | prof_qlt &lt;int&gt; | prof_qle &lt;int&gt; | inscritos &lt;int&gt; | test_num &lt;int&gt; |\n|---|---|---|---|---|---|---|---|---|---|---|---|---|---|---|---|---|---|---|---|---|---|\n| 1 | 1.611190e+12 | Superior | Alameda High   | Alameda High   | 1 | Alameda City Unified | 6 | Alameda | 1 | NA | ⋯ |  6 | 16 | 22 | 38 | 18 | 3,45000004768372 | 85 | 16 | 1278 | 1090 |\n| 2 | 1.611190e+12 | Superior | Encinal High   | Encinal High   | 2 | Alameda City Unified | 6 | Alameda | 1 | NA | ⋯ | 11 | 20 | 29 | 31 |  9 | 3,05999994277954 | 90 | 10 | 1113 |  840 |\n| 3 | 1.611196e+12 | Medio    | Chipman Middle | Chipman Middle | 3 | Alameda City Unified | 6 | Alameda | 1 | NA | ⋯ | 11 | 31 | 30 | 20 |  8 | 2,8199999332428  | 80 | 12 |  546 |  472 |\n\n",
            "text/latex": "A data.frame: 3 × 37\n\\begin{tabular}{r|lllllllllllllllllllll}\n  & id & tipo & nome & nomec & num & dst\\_nm & dst\\_num & cdd\\_nm & cdd\\_num & flag & ⋯ & edu\\_supi & edu\\_sup & edu\\_medi & edu\\_med & edu\\_pos & edu & prof\\_qlt & prof\\_qle & inscritos & test\\_num\\\\\n  & <dbl> & <chr> & <chr> & <chr> & <int> & <chr> & <int> & <chr> & <int> & <lgl> & ⋯ & <int> & <int> & <int> & <int> & <int> & <chr> & <int> & <int> & <int> & <int>\\\\\n\\hline\n\t1 & 1.611190e+12 & Superior & Alameda High   & Alameda High   & 1 & Alameda City Unified & 6 & Alameda & 1 & NA & ⋯ &  6 & 16 & 22 & 38 & 18 & 3,45000004768372 & 85 & 16 & 1278 & 1090\\\\\n\t2 & 1.611190e+12 & Superior & Encinal High   & Encinal High   & 2 & Alameda City Unified & 6 & Alameda & 1 & NA & ⋯ & 11 & 20 & 29 & 31 &  9 & 3,05999994277954 & 90 & 10 & 1113 &  840\\\\\n\t3 & 1.611196e+12 & Medio    & Chipman Middle & Chipman Middle & 3 & Alameda City Unified & 6 & Alameda & 1 & NA & ⋯ & 11 & 31 & 30 & 20 &  8 & 2,8199999332428  & 80 & 12 &  546 &  472\\\\\n\\end{tabular}\n",
            "text/plain": [
              "  id           tipo     nome           nomec          num dst_nm              \n",
              "1 1.611190e+12 Superior Alameda High   Alameda High   1   Alameda City Unified\n",
              "2 1.611190e+12 Superior Encinal High   Encinal High   2   Alameda City Unified\n",
              "3 1.611196e+12 Medio    Chipman Middle Chipman Middle 3   Alameda City Unified\n",
              "  dst_num cdd_nm  cdd_num flag ⋯ edu_supi edu_sup edu_medi edu_med edu_pos\n",
              "1 6       Alameda 1       NA   ⋯  6       16      22       38      18     \n",
              "2 6       Alameda 1       NA   ⋯ 11       20      29       31       9     \n",
              "3 6       Alameda 1       NA   ⋯ 11       31      30       20       8     \n",
              "  edu              prof_qlt prof_qle inscritos test_num\n",
              "1 3,45000004768372 85       16       1278      1090    \n",
              "2 3,05999994277954 90       10       1113       840    \n",
              "3 2,8199999332428  80       12        546       472    "
            ]
          },
          "metadata": {}
        }
      ]
    },
    {
      "cell_type": "code",
      "source": [
        "str(df_api)"
      ],
      "metadata": {
        "colab": {
          "base_uri": "https://localhost:8080/"
        },
        "id": "n4nblOBHs-Ad",
        "outputId": "729dac75-7e23-45b1-e98b-39a1df8234d9"
      },
      "execution_count": null,
      "outputs": [
        {
          "output_type": "stream",
          "name": "stdout",
          "text": [
            "'data.frame':\t6194 obs. of  37 variables:\n",
            " $ id       : num  1.61e+12 1.61e+12 1.61e+12 1.61e+12 1.61e+12 ...\n",
            " $ tipo     : chr  \"Superior\" \"Superior\" \"Medio\" \"Fundamental\" ...\n",
            " $ nome     : chr  \"Alameda High\" \"Encinal High\" \"Chipman Middle\" \"Lum (Donald D.)\" ...\n",
            " $ nomec    : chr  \"Alameda High\" \"Encinal High\" \"Chipman Middle\" \"Lum (Donald D.) Elementary\" ...\n",
            " $ num      : int  1 2 3 4 5 6 7 8 9 10 ...\n",
            " $ dst_nm   : chr  \"Alameda City Unified\" \"Alameda City Unified\" \"Alameda City Unified\" \"Alameda City Unified\" ...\n",
            " $ dst_num  : int  6 6 6 6 6 6 6 6 6 6 ...\n",
            " $ cdd_nm   : chr  \"Alameda\" \"Alameda\" \"Alameda\" \"Alameda\" ...\n",
            " $ cdd_num  : int  1 1 1 1 1 1 1 1 1 1 ...\n",
            " $ flag     : logi  NA NA NA NA NA NA ...\n",
            " $ test_pct : int  96 99 99 99 99 100 100 99 99 99 ...\n",
            " $ api00    : int  731 622 622 774 811 780 808 739 795 650 ...\n",
            " $ api99    : int  693 589 572 732 784 725 765 667 792 580 ...\n",
            " $ meta     : int  5 11 11 3 1 4 2 7 1 11 ...\n",
            " $ meta_dif : int  38 33 50 42 27 55 43 72 3 70 ...\n",
            " $ meta_r1  : chr  \"Yes\" \"Yes\" \"Yes\" \"Yes\" ...\n",
            " $ meta_r2  : chr  \"Yes\" \"No\" \"Yes\" \"Yes\" ...\n",
            " $ meta_rs  : chr  \"Yes\" \"No\" \"Yes\" \"Yes\" ...\n",
            " $ pprm     : chr  \"Yes\" \"No\" \"Yes\" \"Yes\" ...\n",
            " $ refs     : int  14 20 55 35 15 25 22 50 10 71 ...\n",
            " $ npi      : int  16 18 25 26 9 18 9 35 10 41 ...\n",
            " $ cald     : chr  NA NA NA NA ...\n",
            " $ nov      : int  9 13 20 21 11 12 8 18 11 17 ...\n",
            " $ ack3     : int  NA NA NA 20 20 20 20 20 NA 20 ...\n",
            " $ ac46     : int  NA NA 26 30 29 29 26 31 29 25 ...\n",
            " $ dbase    : int  25 27 27 NA NA NA NA NA 29 NA ...\n",
            " $ edu_resp : int  91 84 86 96 96 87 90 82 92 91 ...\n",
            " $ edu_supi : int  6 11 11 3 3 6 4 11 2 16 ...\n",
            " $ edu_sup  : int  16 20 31 22 9 11 27 35 12 30 ...\n",
            " $ edu_medi : int  22 29 30 29 29 28 25 27 24 31 ...\n",
            " $ edu_med  : int  38 31 20 31 26 41 32 21 34 20 ...\n",
            " $ edu_pos  : int  18 9 8 15 33 13 12 6 28 3 ...\n",
            " $ edu      : chr  \"3,45000004768372\" \"3,05999994277954\" \"2,8199999332428\" \"3,3199999332428\" ...\n",
            " $ prof_qlt : int  85 90 80 96 95 90 93 93 89 100 ...\n",
            " $ prof_qle : int  16 10 12 4 5 5 0 11 16 0 ...\n",
            " $ inscritos: int  1278 1113 546 330 233 276 180 363 850 263 ...\n",
            " $ test_num : int  1090 840 472 272 216 247 167 292 782 219 ...\n"
          ]
        }
      ]
    },
    {
      "cell_type": "markdown",
      "source": [
        "## 2.2 Convertendo colunas"
      ],
      "metadata": {
        "id": "RUD4GYMkY4M-"
      }
    },
    {
      "cell_type": "code",
      "source": [
        "#Criando vetor de colunas que serão convertidas em fator\n",
        "colunas_factor <- c(\n",
        "    \"tipo\", \"meta_r1\", \"meta_r2\", \"meta_rs\", \"pprm\", \"cald\"\n",
        ")"
      ],
      "metadata": {
        "id": "9cdUVadbuDHi"
      },
      "execution_count": null,
      "outputs": []
    },
    {
      "cell_type": "code",
      "source": [
        "#Convertendo colunas em fator\n",
        "df_novo <- mutate(df_api, across(all_of(colunas_factor), as.factor))"
      ],
      "metadata": {
        "id": "lo13xRZ_w2zk"
      },
      "execution_count": null,
      "outputs": []
    },
    {
      "cell_type": "code",
      "source": [
        "# #Criando vetor de colunas que serão convertidas em números\n",
        "\n",
        "# colunas_numeric <- c(\n",
        "#     \"test_pct\", \"api00\", \"api99\", \"meta\",\n",
        "#     \"meta_dif\", \"refs\", \"npi\", \"nov\",\n",
        "#     \"ack3\", \"ac46\", \"dbase\", \"edu_resp\",\n",
        "#     \"edu_supi\", \"edu_sup\", \"edu_medi\", \"edu_med\",\n",
        "#     \"edu_pos\", \"prof_qlt\", \"prof_qle\", \"inscritos\", \"test_num\",\"edu\"\n",
        "# )\n",
        "# colunas_numeric"
      ],
      "metadata": {
        "id": "muoH5DT5Y80f"
      },
      "execution_count": null,
      "outputs": []
    },
    {
      "cell_type": "code",
      "source": [
        "# Substituição da \",\" por \".\" em números decimais\n",
        "str(df_novo[,\"edu\"])\n",
        "df_novo$edu <- gsub(\",\", \".\", df_novo$edu)\n",
        "str(df_novo[,\"edu\"])"
      ],
      "metadata": {
        "colab": {
          "base_uri": "https://localhost:8080/"
        },
        "id": "c96tvfiKevxW",
        "outputId": "9f91821e-4481-41b5-e18b-5d3fa70f1b07"
      },
      "execution_count": null,
      "outputs": [
        {
          "output_type": "stream",
          "name": "stdout",
          "text": [
            " chr [1:6194] \"3,45000004768372\" \"3,05999994277954\" \"2,8199999332428\" ...\n",
            " chr [1:6194] \"3.45000004768372\" \"3.05999994277954\" \"2.8199999332428\" ...\n"
          ]
        }
      ]
    },
    {
      "cell_type": "code",
      "source": [
        "# #Convertendo colunas em números\n",
        "\n",
        "# df_novo %>%\n",
        "#   mutate(across(all_of(colunas_numeric), as.numeric)) %>%\n",
        "#   str()"
      ],
      "metadata": {
        "id": "oCig2iiftSM5"
      },
      "execution_count": null,
      "outputs": []
    },
    {
      "cell_type": "markdown",
      "source": [
        "\n",
        "\n",
        "---\n",
        "\n"
      ],
      "metadata": {
        "id": "8UpvxzlbjrNp"
      }
    },
    {
      "cell_type": "code",
      "source": [
        "# Separando as colunas numéricas\n",
        "cols_num <- c(\"api00\", \"api99\",\n",
        "    \"meta_dif\", \"refs\", \"npi\", \"nov\",\n",
        "    \"ack3\", \"ac46\", \"dbase\", \"edu_resp\",\n",
        "    \"edu_supi\", \"edu_sup\", \"edu_medi\", \"edu_med\",\n",
        "    \"prof_qlt\", \"prof_qle\",\"test_num\",\"edu\"\n",
        ")\n",
        "# Separando as colunas de fatores\n",
        "cols_cat <- c(\n",
        "    \"tipo\", \"meta_r1\", \"meta_r2\", \"meta_rs\", \"pprm\", \"cald\"\n",
        ")\n",
        "\n",
        "cols_usadas <- c(\"id\",cols_cat,cols_num,\"dst_nm\",\"cdd_nm\")\n",
        "\n",
        "cols_usadas"
      ],
      "metadata": {
        "colab": {
          "base_uri": "https://localhost:8080/",
          "height": 69
        },
        "id": "ZItn26Mtxr_R",
        "outputId": "78811fed-ed52-4fc6-9e3b-8cf6833d93c9"
      },
      "execution_count": null,
      "outputs": [
        {
          "output_type": "display_data",
          "data": {
            "text/html": [
              "<style>\n",
              ".list-inline {list-style: none; margin:0; padding: 0}\n",
              ".list-inline>li {display: inline-block}\n",
              ".list-inline>li:not(:last-child)::after {content: \"\\00b7\"; padding: 0 .5ex}\n",
              "</style>\n",
              "<ol class=list-inline><li>'id'</li><li>'tipo'</li><li>'meta_r1'</li><li>'meta_r2'</li><li>'meta_rs'</li><li>'pprm'</li><li>'cald'</li><li>'api00'</li><li>'api99'</li><li>'meta_dif'</li><li>'refs'</li><li>'npi'</li><li>'nov'</li><li>'ack3'</li><li>'ac46'</li><li>'dbase'</li><li>'edu_resp'</li><li>'edu_supi'</li><li>'edu_sup'</li><li>'edu_medi'</li><li>'edu_med'</li><li>'prof_qlt'</li><li>'prof_qle'</li><li>'test_num'</li><li>'edu'</li><li>'dst_nm'</li><li>'cdd_nm'</li></ol>\n"
            ],
            "text/markdown": "1. 'id'\n2. 'tipo'\n3. 'meta_r1'\n4. 'meta_r2'\n5. 'meta_rs'\n6. 'pprm'\n7. 'cald'\n8. 'api00'\n9. 'api99'\n10. 'meta_dif'\n11. 'refs'\n12. 'npi'\n13. 'nov'\n14. 'ack3'\n15. 'ac46'\n16. 'dbase'\n17. 'edu_resp'\n18. 'edu_supi'\n19. 'edu_sup'\n20. 'edu_medi'\n21. 'edu_med'\n22. 'prof_qlt'\n23. 'prof_qle'\n24. 'test_num'\n25. 'edu'\n26. 'dst_nm'\n27. 'cdd_nm'\n\n\n",
            "text/latex": "\\begin{enumerate*}\n\\item 'id'\n\\item 'tipo'\n\\item 'meta\\_r1'\n\\item 'meta\\_r2'\n\\item 'meta\\_rs'\n\\item 'pprm'\n\\item 'cald'\n\\item 'api00'\n\\item 'api99'\n\\item 'meta\\_dif'\n\\item 'refs'\n\\item 'npi'\n\\item 'nov'\n\\item 'ack3'\n\\item 'ac46'\n\\item 'dbase'\n\\item 'edu\\_resp'\n\\item 'edu\\_supi'\n\\item 'edu\\_sup'\n\\item 'edu\\_medi'\n\\item 'edu\\_med'\n\\item 'prof\\_qlt'\n\\item 'prof\\_qle'\n\\item 'test\\_num'\n\\item 'edu'\n\\item 'dst\\_nm'\n\\item 'cdd\\_nm'\n\\end{enumerate*}\n",
            "text/plain": [
              " [1] \"id\"       \"tipo\"     \"meta_r1\"  \"meta_r2\"  \"meta_rs\"  \"pprm\"    \n",
              " [7] \"cald\"     \"api00\"    \"api99\"    \"meta_dif\" \"refs\"     \"npi\"     \n",
              "[13] \"nov\"      \"ack3\"     \"ac46\"     \"dbase\"    \"edu_resp\" \"edu_supi\"\n",
              "[19] \"edu_sup\"  \"edu_medi\" \"edu_med\"  \"prof_qlt\" \"prof_qle\" \"test_num\"\n",
              "[25] \"edu\"      \"dst_nm\"   \"cdd_nm\"  "
            ]
          },
          "metadata": {}
        }
      ]
    },
    {
      "cell_type": "code",
      "source": [
        "# Substituindo dataset\n",
        "df <- df_novo[,cols_usadas]\n",
        "str(df)"
      ],
      "metadata": {
        "colab": {
          "base_uri": "https://localhost:8080/"
        },
        "id": "DcEunUIM7hAD",
        "outputId": "ec91f2e1-364c-4f41-e369-8672b5257d52"
      },
      "execution_count": null,
      "outputs": [
        {
          "output_type": "stream",
          "name": "stdout",
          "text": [
            "'data.frame':\t6194 obs. of  27 variables:\n",
            " $ id      : num  1.61e+12 1.61e+12 1.61e+12 1.61e+12 1.61e+12 ...\n",
            " $ tipo    : Factor w/ 3 levels \"Fundamental\",..: 3 3 2 1 1 1 1 1 2 1 ...\n",
            " $ meta_r1 : Factor w/ 2 levels \"No\",\"Yes\": 2 2 2 2 2 2 2 2 2 2 ...\n",
            " $ meta_r2 : Factor w/ 2 levels \"No\",\"Yes\": 2 1 2 2 2 2 2 2 2 2 ...\n",
            " $ meta_rs : Factor w/ 2 levels \"No\",\"Yes\": 2 1 2 2 2 2 2 2 2 2 ...\n",
            " $ pprm    : Factor w/ 2 levels \"No\",\"Yes\": 2 1 2 2 2 2 2 2 2 2 ...\n",
            " $ cald    : Factor w/ 1 level \"No\": NA NA NA NA NA NA NA NA NA NA ...\n",
            " $ api00   : int  731 622 622 774 811 780 808 739 795 650 ...\n",
            " $ api99   : int  693 589 572 732 784 725 765 667 792 580 ...\n",
            " $ meta_dif: int  38 33 50 42 27 55 43 72 3 70 ...\n",
            " $ refs    : int  14 20 55 35 15 25 22 50 10 71 ...\n",
            " $ npi     : int  16 18 25 26 9 18 9 35 10 41 ...\n",
            " $ nov     : int  9 13 20 21 11 12 8 18 11 17 ...\n",
            " $ ack3    : int  NA NA NA 20 20 20 20 20 NA 20 ...\n",
            " $ ac46    : int  NA NA 26 30 29 29 26 31 29 25 ...\n",
            " $ dbase   : int  25 27 27 NA NA NA NA NA 29 NA ...\n",
            " $ edu_resp: int  91 84 86 96 96 87 90 82 92 91 ...\n",
            " $ edu_supi: int  6 11 11 3 3 6 4 11 2 16 ...\n",
            " $ edu_sup : int  16 20 31 22 9 11 27 35 12 30 ...\n",
            " $ edu_medi: int  22 29 30 29 29 28 25 27 24 31 ...\n",
            " $ edu_med : int  38 31 20 31 26 41 32 21 34 20 ...\n",
            " $ prof_qlt: int  85 90 80 96 95 90 93 93 89 100 ...\n",
            " $ prof_qle: int  16 10 12 4 5 5 0 11 16 0 ...\n",
            " $ test_num: int  1090 840 472 272 216 247 167 292 782 219 ...\n",
            " $ edu     : chr  \"3.45000004768372\" \"3.05999994277954\" \"2.8199999332428\" \"3.3199999332428\" ...\n",
            " $ dst_nm  : chr  \"Alameda City Unified\" \"Alameda City Unified\" \"Alameda City Unified\" \"Alameda City Unified\" ...\n",
            " $ cdd_nm  : chr  \"Alameda\" \"Alameda\" \"Alameda\" \"Alameda\" ...\n"
          ]
        }
      ]
    },
    {
      "cell_type": "code",
      "source": [
        "# Transformando as colunas em numéricas\n",
        "for(col in cols_num){\n",
        "    df[,col] <- as.numeric(df[,col])\n",
        "}\n",
        "str(df)"
      ],
      "metadata": {
        "colab": {
          "base_uri": "https://localhost:8080/"
        },
        "id": "XTLlgmKZ5tT8",
        "outputId": "9caaa4f0-6aeb-415c-c7d1-aa3afc4ced1b"
      },
      "execution_count": null,
      "outputs": [
        {
          "output_type": "stream",
          "name": "stdout",
          "text": [
            "'data.frame':\t6194 obs. of  27 variables:\n",
            " $ id      : num  1.61e+12 1.61e+12 1.61e+12 1.61e+12 1.61e+12 ...\n",
            " $ tipo    : Factor w/ 3 levels \"Fundamental\",..: 3 3 2 1 1 1 1 1 2 1 ...\n",
            " $ meta_r1 : Factor w/ 2 levels \"No\",\"Yes\": 2 2 2 2 2 2 2 2 2 2 ...\n",
            " $ meta_r2 : Factor w/ 2 levels \"No\",\"Yes\": 2 1 2 2 2 2 2 2 2 2 ...\n",
            " $ meta_rs : Factor w/ 2 levels \"No\",\"Yes\": 2 1 2 2 2 2 2 2 2 2 ...\n",
            " $ pprm    : Factor w/ 2 levels \"No\",\"Yes\": 2 1 2 2 2 2 2 2 2 2 ...\n",
            " $ cald    : Factor w/ 1 level \"No\": NA NA NA NA NA NA NA NA NA NA ...\n",
            " $ api00   : num  731 622 622 774 811 780 808 739 795 650 ...\n",
            " $ api99   : num  693 589 572 732 784 725 765 667 792 580 ...\n",
            " $ meta_dif: num  38 33 50 42 27 55 43 72 3 70 ...\n",
            " $ refs    : num  14 20 55 35 15 25 22 50 10 71 ...\n",
            " $ npi     : num  16 18 25 26 9 18 9 35 10 41 ...\n",
            " $ nov     : num  9 13 20 21 11 12 8 18 11 17 ...\n",
            " $ ack3    : num  NA NA NA 20 20 20 20 20 NA 20 ...\n",
            " $ ac46    : num  NA NA 26 30 29 29 26 31 29 25 ...\n",
            " $ dbase   : num  25 27 27 NA NA NA NA NA 29 NA ...\n",
            " $ edu_resp: num  91 84 86 96 96 87 90 82 92 91 ...\n",
            " $ edu_supi: num  6 11 11 3 3 6 4 11 2 16 ...\n",
            " $ edu_sup : num  16 20 31 22 9 11 27 35 12 30 ...\n",
            " $ edu_medi: num  22 29 30 29 29 28 25 27 24 31 ...\n",
            " $ edu_med : num  38 31 20 31 26 41 32 21 34 20 ...\n",
            " $ prof_qlt: num  85 90 80 96 95 90 93 93 89 100 ...\n",
            " $ prof_qle: num  16 10 12 4 5 5 0 11 16 0 ...\n",
            " $ test_num: num  1090 840 472 272 216 247 167 292 782 219 ...\n",
            " $ edu     : num  3.45 3.06 2.82 3.32 3.76 ...\n",
            " $ dst_nm  : chr  \"Alameda City Unified\" \"Alameda City Unified\" \"Alameda City Unified\" \"Alameda City Unified\" ...\n",
            " $ cdd_nm  : chr  \"Alameda\" \"Alameda\" \"Alameda\" \"Alameda\" ...\n"
          ]
        }
      ]
    },
    {
      "cell_type": "code",
      "source": [
        "head(df,n = 6)"
      ],
      "metadata": {
        "colab": {
          "base_uri": "https://localhost:8080/",
          "height": 515
        },
        "id": "Tdfo1gQb7CX0",
        "outputId": "65ddf3d8-1298-40f4-c3f7-c9015fa75d60"
      },
      "execution_count": null,
      "outputs": [
        {
          "output_type": "display_data",
          "data": {
            "text/html": [
              "<table class=\"dataframe\">\n",
              "<caption>A data.frame: 6 × 27</caption>\n",
              "<thead>\n",
              "\t<tr><th></th><th scope=col>id</th><th scope=col>tipo</th><th scope=col>meta_r1</th><th scope=col>meta_r2</th><th scope=col>meta_rs</th><th scope=col>pprm</th><th scope=col>cald</th><th scope=col>api00</th><th scope=col>api99</th><th scope=col>meta_dif</th><th scope=col>⋯</th><th scope=col>edu_supi</th><th scope=col>edu_sup</th><th scope=col>edu_medi</th><th scope=col>edu_med</th><th scope=col>prof_qlt</th><th scope=col>prof_qle</th><th scope=col>test_num</th><th scope=col>edu</th><th scope=col>dst_nm</th><th scope=col>cdd_nm</th></tr>\n",
              "\t<tr><th></th><th scope=col>&lt;dbl&gt;</th><th scope=col>&lt;fct&gt;</th><th scope=col>&lt;fct&gt;</th><th scope=col>&lt;fct&gt;</th><th scope=col>&lt;fct&gt;</th><th scope=col>&lt;fct&gt;</th><th scope=col>&lt;fct&gt;</th><th scope=col>&lt;dbl&gt;</th><th scope=col>&lt;dbl&gt;</th><th scope=col>&lt;dbl&gt;</th><th scope=col>⋯</th><th scope=col>&lt;dbl&gt;</th><th scope=col>&lt;dbl&gt;</th><th scope=col>&lt;dbl&gt;</th><th scope=col>&lt;dbl&gt;</th><th scope=col>&lt;dbl&gt;</th><th scope=col>&lt;dbl&gt;</th><th scope=col>&lt;dbl&gt;</th><th scope=col>&lt;dbl&gt;</th><th scope=col>&lt;chr&gt;</th><th scope=col>&lt;chr&gt;</th></tr>\n",
              "</thead>\n",
              "<tbody>\n",
              "\t<tr><th scope=row>1</th><td>1.611190e+12</td><td>Superior   </td><td>Yes</td><td>Yes</td><td>Yes</td><td>Yes</td><td>NA</td><td>731</td><td>693</td><td>38</td><td>⋯</td><td> 6</td><td>16</td><td>22</td><td>38</td><td>85</td><td>16</td><td>1090</td><td>3.45</td><td>Alameda City Unified</td><td>Alameda</td></tr>\n",
              "\t<tr><th scope=row>2</th><td>1.611190e+12</td><td>Superior   </td><td>Yes</td><td>No </td><td>No </td><td>No </td><td>NA</td><td>622</td><td>589</td><td>33</td><td>⋯</td><td>11</td><td>20</td><td>29</td><td>31</td><td>90</td><td>10</td><td> 840</td><td>3.06</td><td>Alameda City Unified</td><td>Alameda</td></tr>\n",
              "\t<tr><th scope=row>3</th><td>1.611196e+12</td><td>Medio      </td><td>Yes</td><td>Yes</td><td>Yes</td><td>Yes</td><td>NA</td><td>622</td><td>572</td><td>50</td><td>⋯</td><td>11</td><td>31</td><td>30</td><td>20</td><td>80</td><td>12</td><td> 472</td><td>2.82</td><td>Alameda City Unified</td><td>Alameda</td></tr>\n",
              "\t<tr><th scope=row>4</th><td>1.611196e+12</td><td>Fundamental</td><td>Yes</td><td>Yes</td><td>Yes</td><td>Yes</td><td>NA</td><td>774</td><td>732</td><td>42</td><td>⋯</td><td> 3</td><td>22</td><td>29</td><td>31</td><td>96</td><td> 4</td><td> 272</td><td>3.32</td><td>Alameda City Unified</td><td>Alameda</td></tr>\n",
              "\t<tr><th scope=row>5</th><td>1.611196e+12</td><td>Fundamental</td><td>Yes</td><td>Yes</td><td>Yes</td><td>Yes</td><td>NA</td><td>811</td><td>784</td><td>27</td><td>⋯</td><td> 3</td><td> 9</td><td>29</td><td>26</td><td>95</td><td> 5</td><td> 216</td><td>3.76</td><td>Alameda City Unified</td><td>Alameda</td></tr>\n",
              "\t<tr><th scope=row>6</th><td>1.611196e+12</td><td>Fundamental</td><td>Yes</td><td>Yes</td><td>Yes</td><td>Yes</td><td>NA</td><td>780</td><td>725</td><td>55</td><td>⋯</td><td> 6</td><td>11</td><td>28</td><td>41</td><td>90</td><td> 5</td><td> 247</td><td>3.44</td><td>Alameda City Unified</td><td>Alameda</td></tr>\n",
              "</tbody>\n",
              "</table>\n"
            ],
            "text/markdown": "\nA data.frame: 6 × 27\n\n| <!--/--> | id &lt;dbl&gt; | tipo &lt;fct&gt; | meta_r1 &lt;fct&gt; | meta_r2 &lt;fct&gt; | meta_rs &lt;fct&gt; | pprm &lt;fct&gt; | cald &lt;fct&gt; | api00 &lt;dbl&gt; | api99 &lt;dbl&gt; | meta_dif &lt;dbl&gt; | ⋯ ⋯ | edu_supi &lt;dbl&gt; | edu_sup &lt;dbl&gt; | edu_medi &lt;dbl&gt; | edu_med &lt;dbl&gt; | prof_qlt &lt;dbl&gt; | prof_qle &lt;dbl&gt; | test_num &lt;dbl&gt; | edu &lt;dbl&gt; | dst_nm &lt;chr&gt; | cdd_nm &lt;chr&gt; |\n|---|---|---|---|---|---|---|---|---|---|---|---|---|---|---|---|---|---|---|---|---|---|\n| 1 | 1.611190e+12 | Superior    | Yes | Yes | Yes | Yes | NA | 731 | 693 | 38 | ⋯ |  6 | 16 | 22 | 38 | 85 | 16 | 1090 | 3.45 | Alameda City Unified | Alameda |\n| 2 | 1.611190e+12 | Superior    | Yes | No  | No  | No  | NA | 622 | 589 | 33 | ⋯ | 11 | 20 | 29 | 31 | 90 | 10 |  840 | 3.06 | Alameda City Unified | Alameda |\n| 3 | 1.611196e+12 | Medio       | Yes | Yes | Yes | Yes | NA | 622 | 572 | 50 | ⋯ | 11 | 31 | 30 | 20 | 80 | 12 |  472 | 2.82 | Alameda City Unified | Alameda |\n| 4 | 1.611196e+12 | Fundamental | Yes | Yes | Yes | Yes | NA | 774 | 732 | 42 | ⋯ |  3 | 22 | 29 | 31 | 96 |  4 |  272 | 3.32 | Alameda City Unified | Alameda |\n| 5 | 1.611196e+12 | Fundamental | Yes | Yes | Yes | Yes | NA | 811 | 784 | 27 | ⋯ |  3 |  9 | 29 | 26 | 95 |  5 |  216 | 3.76 | Alameda City Unified | Alameda |\n| 6 | 1.611196e+12 | Fundamental | Yes | Yes | Yes | Yes | NA | 780 | 725 | 55 | ⋯ |  6 | 11 | 28 | 41 | 90 |  5 |  247 | 3.44 | Alameda City Unified | Alameda |\n\n",
            "text/latex": "A data.frame: 6 × 27\n\\begin{tabular}{r|lllllllllllllllllllll}\n  & id & tipo & meta\\_r1 & meta\\_r2 & meta\\_rs & pprm & cald & api00 & api99 & meta\\_dif & ⋯ & edu\\_supi & edu\\_sup & edu\\_medi & edu\\_med & prof\\_qlt & prof\\_qle & test\\_num & edu & dst\\_nm & cdd\\_nm\\\\\n  & <dbl> & <fct> & <fct> & <fct> & <fct> & <fct> & <fct> & <dbl> & <dbl> & <dbl> & ⋯ & <dbl> & <dbl> & <dbl> & <dbl> & <dbl> & <dbl> & <dbl> & <dbl> & <chr> & <chr>\\\\\n\\hline\n\t1 & 1.611190e+12 & Superior    & Yes & Yes & Yes & Yes & NA & 731 & 693 & 38 & ⋯ &  6 & 16 & 22 & 38 & 85 & 16 & 1090 & 3.45 & Alameda City Unified & Alameda\\\\\n\t2 & 1.611190e+12 & Superior    & Yes & No  & No  & No  & NA & 622 & 589 & 33 & ⋯ & 11 & 20 & 29 & 31 & 90 & 10 &  840 & 3.06 & Alameda City Unified & Alameda\\\\\n\t3 & 1.611196e+12 & Medio       & Yes & Yes & Yes & Yes & NA & 622 & 572 & 50 & ⋯ & 11 & 31 & 30 & 20 & 80 & 12 &  472 & 2.82 & Alameda City Unified & Alameda\\\\\n\t4 & 1.611196e+12 & Fundamental & Yes & Yes & Yes & Yes & NA & 774 & 732 & 42 & ⋯ &  3 & 22 & 29 & 31 & 96 &  4 &  272 & 3.32 & Alameda City Unified & Alameda\\\\\n\t5 & 1.611196e+12 & Fundamental & Yes & Yes & Yes & Yes & NA & 811 & 784 & 27 & ⋯ &  3 &  9 & 29 & 26 & 95 &  5 &  216 & 3.76 & Alameda City Unified & Alameda\\\\\n\t6 & 1.611196e+12 & Fundamental & Yes & Yes & Yes & Yes & NA & 780 & 725 & 55 & ⋯ &  6 & 11 & 28 & 41 & 90 &  5 &  247 & 3.44 & Alameda City Unified & Alameda\\\\\n\\end{tabular}\n",
            "text/plain": [
              "  id           tipo        meta_r1 meta_r2 meta_rs pprm cald api00 api99\n",
              "1 1.611190e+12 Superior    Yes     Yes     Yes     Yes  NA   731   693  \n",
              "2 1.611190e+12 Superior    Yes     No      No      No   NA   622   589  \n",
              "3 1.611196e+12 Medio       Yes     Yes     Yes     Yes  NA   622   572  \n",
              "4 1.611196e+12 Fundamental Yes     Yes     Yes     Yes  NA   774   732  \n",
              "5 1.611196e+12 Fundamental Yes     Yes     Yes     Yes  NA   811   784  \n",
              "6 1.611196e+12 Fundamental Yes     Yes     Yes     Yes  NA   780   725  \n",
              "  meta_dif ⋯ edu_supi edu_sup edu_medi edu_med prof_qlt prof_qle test_num edu \n",
              "1 38       ⋯  6       16      22       38      85       16       1090     3.45\n",
              "2 33       ⋯ 11       20      29       31      90       10        840     3.06\n",
              "3 50       ⋯ 11       31      30       20      80       12        472     2.82\n",
              "4 42       ⋯  3       22      29       31      96        4        272     3.32\n",
              "5 27       ⋯  3        9      29       26      95        5        216     3.76\n",
              "6 55       ⋯  6       11      28       41      90        5        247     3.44\n",
              "  dst_nm               cdd_nm \n",
              "1 Alameda City Unified Alameda\n",
              "2 Alameda City Unified Alameda\n",
              "3 Alameda City Unified Alameda\n",
              "4 Alameda City Unified Alameda\n",
              "5 Alameda City Unified Alameda\n",
              "6 Alameda City Unified Alameda"
            ]
          },
          "metadata": {}
        }
      ]
    },
    {
      "cell_type": "markdown",
      "source": [
        "# **3.** Exportando o dataset tratado"
      ],
      "metadata": {
        "id": "Co6qusajapID"
      }
    },
    {
      "cell_type": "code",
      "source": [
        "# Salvando o arquivo\n",
        "write.csv(df,file='arquivo_tratado.csv',row.names = FALSE)"
      ],
      "metadata": {
        "id": "0Lgvbj0Vassj"
      },
      "execution_count": null,
      "outputs": []
    }
  ]
}